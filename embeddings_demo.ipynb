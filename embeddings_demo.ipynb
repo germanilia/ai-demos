{
  "cells": [
    {
      "cell_type": "markdown",
      "metadata": {
        "colab_type": "text",
        "id": "view-in-github"
      },
      "source": [
        "<a href=\"https://colab.research.google.com/github/germanilia/ai_and_stuff/blob/main/webinar_open_ai/demo/embeddings_demo.ipynb\" target=\"_parent\"><img src=\"https://colab.research.google.com/assets/colab-badge.svg\" alt=\"Open In Colab\"/></a>"
      ]
    },
    {
      "cell_type": "code",
      "execution_count": 7,
      "metadata": {
        "cellView": "form",
        "id": "W-I6HH14XSm7"
      },
      "outputs": [],
      "source": [
        "#@title Set API Keys\n",
        "import os\n",
        "os.environ[\"AZURE_OPENAI_API_KEY\"] = \"\"\n",
        "os.environ[\"SERPAPI_API_KEY\"] = \"\""
      ]
    },
    {
      "cell_type": "code",
      "execution_count": 5,
      "metadata": {
        "id": "bTycU-n1XUWb"
      },
      "outputs": [],
      "source": [
        "#@title Install dependencies\n",
        "!pip -q install langchain openai tiktoken chromadb"
      ]
    },
    {
      "cell_type": "code",
      "execution_count": 8,
      "metadata": {
        "id": "IWZW0bnBXV7w"
      },
      "outputs": [],
      "source": [
        "#@title Set env variables\n",
        "os.environ[\"OPENAI_API_TYPE\"] = \"azure\"\n",
        "os.environ[\"AZURE_MODEL_NAME\"] = \"text-davinci-003\"\n",
        "os.environ[\"AZURE_DEPLOYMENT_NAME\"] = \"text-davinci-003\"\n",
        "os.environ[\"OPENAI_API_VERSION\"] = \"2022-12-01\"\n",
        "os.environ[\"OPENAI_API_BASE\"] = \"https://ilia.openai.azure.com\"\n",
        "os.environ[\"OPENAI_API_KEY\"] = os.environ.get(\"AZURE_OPENAI_API_KEY\")"
      ]
    },
    {
      "cell_type": "code",
      "execution_count": 9,
      "metadata": {
        "id": "kTbDhEXHXY90"
      },
      "outputs": [],
      "source": [
        "#@title Initilize LLM\n",
        "import os\n",
        "from langchain.agents import load_tools\n",
        "from langchain.agents import initialize_agent\n",
        "from langchain.llms import AzureOpenAI\n",
        "\n",
        "llm = AzureOpenAI(\n",
        "    deployment_name=os.environ.get(\"AZURE_DEPLOYMENT_NAME\"),\n",
        "    model_name=os.environ.get(\"AZURE_MODEL_NAME\"),\n",
        "    temperature=0,\n",
        "    streaming=False,\n",
        ")\n"
      ]
    },
    {
      "cell_type": "code",
      "execution_count": 11,
      "metadata": {
        "colab": {
          "base_uri": "https://localhost:8080/",
          "height": 71
        },
        "id": "1K4xd7HAXfLD",
        "outputId": "5b19d2e5-9d7b-48f7-b1a6-606b7e8309ef"
      },
      "outputs": [
        {
          "data": {
            "application/vnd.google.colaboratory.intrinsic+json": {
              "type": "string"
            },
            "text/plain": [
              "\" The president said that Ketanji Brown Jackson is one of the nation's top legal minds, a former top litigator in private practice, a former federal public defender, and from a family of public school educators and police officers. He also said that she is a consensus builder and has received a broad range of support from the Fraternal Order of Police to former judges appointed by Democrats and Republicans.\""
            ]
          },
          "execution_count": 11,
          "metadata": {},
          "output_type": "execute_result"
        }
      ],
      "source": [
        "#@title Load Data\n",
        "from langchain.document_loaders import TextLoader\n",
        "from langchain.text_splitter import CharacterTextSplitter\n",
        "from langchain.embeddings import OpenAIEmbeddings\n",
        "from langchain.indexes import VectorstoreIndexCreator\n",
        "from langchain.vectorstores import Chroma\n",
        "loader = TextLoader('state_of_the_union.txt', encoding='utf8')\n",
        "embeddings = OpenAIEmbeddings(deployment=\"text-embedding-ada-002\",chunk_size=1)\n",
        "index = VectorstoreIndexCreator(embedding=embeddings).from_loaders([loader])\n",
        "query = \"What did the president say about Ketanji Brown Jackson\"\n",
        "index.query(query, llm=llm)"
      ]
    },
    {
      "cell_type": "code",
      "execution_count": 12,
      "metadata": {
        "colab": {
          "base_uri": "https://localhost:8080/",
          "height": 35
        },
        "id": "dgD9-Ky_fjbq",
        "outputId": "0178a61b-3b9e-421f-bb30-04ad5ea04270"
      },
      "outputs": [
        {
          "data": {
            "application/vnd.google.colaboratory.intrinsic+json": {
              "type": "string"
            },
            "text/plain": [
              "' COVID-19 has been impacting our lives for more than two years.'"
            ]
          },
          "execution_count": 12,
          "metadata": {},
          "output_type": "execute_result"
        }
      ],
      "source": [
        "query = \"How long COVID-19 lasted?\"\n",
        "index.query(query, llm=llm)"
      ]
    },
    {
      "cell_type": "code",
      "execution_count": 13,
      "metadata": {
        "colab": {
          "base_uri": "https://localhost:8080/",
          "height": 71
        },
        "id": "tdvMVzOdftDI",
        "outputId": "69cd8be7-2950-4b8d-c3c9-c03bd63d9c57"
      },
      "outputs": [
        {
          "data": {
            "application/vnd.google.colaboratory.intrinsic+json": {
              "type": "string"
            },
            "text/plain": [
              "' The administration is providing assistance with job training and housing, and helping lower-income veterans get VA care debt-free. They are also expanding eligibility to veterans suffering from nine respiratory cancers and calling on Congress to pass a law to make sure veterans devastated by toxic exposures in Iraq and Afghanistan get the benefits and comprehensive health care they deserve.'"
            ]
          },
          "execution_count": 13,
          "metadata": {},
          "output_type": "execute_result"
        }
      ],
      "source": [
        "query = \"How is the administration helping veterans?\"\n",
        "index.query(query, llm=llm)"
      ]
    }
  ],
  "metadata": {
    "colab": {
      "authorship_tag": "ABX9TyOv3m7keTfK8CoQA8VZD4lS",
      "include_colab_link": true,
      "provenance": []
    },
    "kernelspec": {
      "display_name": "Python 3",
      "name": "python3"
    },
    "language_info": {
      "name": "python"
    }
  },
  "nbformat": 4,
  "nbformat_minor": 0
}
