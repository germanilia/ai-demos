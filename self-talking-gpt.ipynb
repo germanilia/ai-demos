{
  "cells": [
    {
      "cell_type": "markdown",
      "metadata": {
        "colab_type": "text",
        "id": "view-in-github"
      },
      "source": [
        "<a href=\"https://colab.research.google.com/github/germanilia/ai_and_stuff/blob/main/webinar_open_ai/demo/self-talking-gpt.ipynb\" target=\"_parent\"><img src=\"https://colab.research.google.com/assets/colab-badge.svg\" alt=\"Open In Colab\"/></a>"
      ]
    },
    {
      "cell_type": "code",
      "execution_count": null,
      "metadata": {
        "cellView": "form",
        "id": "J0v6JkDvm6nC"
      },
      "outputs": [],
      "source": [
        "#@title Set API Keys\n",
        "import os\n",
        "os.environ[\"AZURE_OPENAI_API_KEY\"] = \"\"\n",
        "os.environ[\"SERPAPI_API_KEY\"] = \"\""
      ]
    },
    {
      "cell_type": "code",
      "execution_count": null,
      "metadata": {
        "colab": {
          "base_uri": "https://localhost:8080/"
        },
        "id": "yQG2mHyYm_cn",
        "outputId": "a24619d4-0b19-4edf-d608-a5088fe2726b"
      },
      "outputs": [
        {
          "name": "stdout",
          "output_type": "stream",
          "text": [
            "\u001b[2K     \u001b[90m━━━━━━━━━━━━━━━━━━━━━━━━━━━━━━━━━━━━━━\u001b[0m \u001b[32m877.7/877.7 kB\u001b[0m \u001b[31m10.9 MB/s\u001b[0m eta \u001b[36m0:00:00\u001b[0m\n",
            "\u001b[2K     \u001b[90m━━━━━━━━━━━━━━━━━━━━━━━━━━━━━━━━━━━━━━━\u001b[0m \u001b[32m224.5/224.5 kB\u001b[0m \u001b[31m9.2 MB/s\u001b[0m eta \u001b[36m0:00:00\u001b[0m\n",
            "\u001b[2K     \u001b[90m━━━━━━━━━━━━━━━━━━━━━━━━━━━━━━━━━━━━━━━━\u001b[0m \u001b[32m72.0/72.0 kB\u001b[0m \u001b[31m3.5 MB/s\u001b[0m eta \u001b[36m0:00:00\u001b[0m\n",
            "\u001b[?25h  Preparing metadata (setup.py) ... \u001b[?25l\u001b[?25hdone\n",
            "\u001b[2K     \u001b[90m━━━━━━━━━━━━━━━━━━━━━━━━━━━━━━━━━━━━━━━━\u001b[0m \u001b[32m1.7/1.7 MB\u001b[0m \u001b[31m30.2 MB/s\u001b[0m eta \u001b[36m0:00:00\u001b[0m\n",
            "\u001b[?25h  Preparing metadata (setup.py) ... \u001b[?25l\u001b[?25hdone\n",
            "\u001b[2K     \u001b[90m━━━━━━━━━━━━━━━━━━━━━━━━━━━━━━━━━━━━━━━━\u001b[0m \u001b[32m1.0/1.0 MB\u001b[0m \u001b[31m13.0 MB/s\u001b[0m eta \u001b[36m0:00:00\u001b[0m\n",
            "\u001b[2K     \u001b[90m━━━━━━━━━━━━━━━━━━━━━━━━━━━━━━━━━━━━━━━━\u001b[0m \u001b[32m90.0/90.0 kB\u001b[0m \u001b[31m6.7 MB/s\u001b[0m eta \u001b[36m0:00:00\u001b[0m\n",
            "\u001b[2K     \u001b[90m━━━━━━━━━━━━━━━━━━━━━━━━━━━━━━━━━━━━━━━\u001b[0m \u001b[32m114.5/114.5 kB\u001b[0m \u001b[31m3.7 MB/s\u001b[0m eta \u001b[36m0:00:00\u001b[0m\n",
            "\u001b[2K     \u001b[90m━━━━━━━━━━━━━━━━━━━━━━━━━━━━━━━━━━━━━━\u001b[0m \u001b[32m268.8/268.8 kB\u001b[0m \u001b[31m10.5 MB/s\u001b[0m eta \u001b[36m0:00:00\u001b[0m\n",
            "\u001b[2K     \u001b[90m━━━━━━━━━━━━━━━━━━━━━━━━━━━━━━━━━━━━━━━\u001b[0m \u001b[32m149.6/149.6 kB\u001b[0m \u001b[31m9.1 MB/s\u001b[0m eta \u001b[36m0:00:00\u001b[0m\n",
            "\u001b[2K     \u001b[90m━━━━━━━━━━━━━━━━━━━━━━━━━━━━━━━━━━━━━━━━\u001b[0m \u001b[32m49.1/49.1 kB\u001b[0m \u001b[31m2.8 MB/s\u001b[0m eta \u001b[36m0:00:00\u001b[0m\n",
            "\u001b[?25h  Building wheel for google-search-results (setup.py) ... \u001b[?25l\u001b[?25hdone\n",
            "  Building wheel for wikipedia (setup.py) ... \u001b[?25l\u001b[?25hdone\n"
          ]
        }
      ],
      "source": [
        "#@title Install dependencies\n",
        "!pip -q install langchain huggingface_hub openai google-search-results tiktoken wikipedia"
      ]
    },
    {
      "cell_type": "code",
      "execution_count": null,
      "metadata": {
        "id": "cAa51ScQnDJV"
      },
      "outputs": [],
      "source": [
        "#@title Set env variables\n",
        "os.environ[\"OPENAI_API_TYPE\"] = \"azure\"\n",
        "os.environ[\"AZURE_MODEL_NAME\"] = \"text-davinci-003\"\n",
        "os.environ[\"AZURE_DEPLOYMENT_NAME\"] = \"text-davinci-003\"\n",
        "os.environ[\"OPENAI_API_VERSION\"] = \"2022-12-01\"\n",
        "os.environ[\"OPENAI_API_BASE\"] = \"https://ilia.openai.azure.com\"\n",
        "os.environ[\"OPENAI_API_KEY\"] = os.environ.get(\"AZURE_OPENAI_API_KEY\")"
      ]
    },
    {
      "cell_type": "code",
      "execution_count": null,
      "metadata": {
        "id": "2Gb4WdMinIDI"
      },
      "outputs": [],
      "source": [
        "#@title Initilize LLM\n",
        "import os\n",
        "from langchain.agents import load_tools\n",
        "from langchain.agents import initialize_agent\n",
        "from langchain.llms import AzureOpenAI\n",
        "from langchain.agents import AgentType\n",
        "from langchain.memory import ConversationBufferMemory\n",
        "from langchain import PromptTemplate\n",
        "from langchain.chains import ConversationChain\n",
        "import time\n",
        "\n",
        "llm = AzureOpenAI(\n",
        "    deployment_name=os.environ.get(\"AZURE_DEPLOYMENT_NAME\"),\n",
        "    model_name=os.environ.get(\"AZURE_MODEL_NAME\"),\n",
        "    temperature=0.9,\n",
        "    max_tokens=100,\n",
        "    streaming=False,\n",
        ")"
      ]
    },
    {
      "cell_type": "code",
      "execution_count": null,
      "metadata": {
        "id": "FIcwRPb2zfDu"
      },
      "outputs": [],
      "source": [
        "#@title Initilize Charachters\n",
        "scene=\"You are in a misson to investigate the moon! use short responses as much as possible\"\n",
        "agent1_charachter=\"Austronout1\"\n",
        "agent1_response=\"Wow, the earth looks so small from here!\"\n",
        "agent2_charachter=\"Austronout2\"\n",
        "agent2_response=\"Yes, unbelivable!\"\n",
        "verbose=False\n"
      ]
    },
    {
      "cell_type": "code",
      "execution_count": null,
      "metadata": {
        "id": "DGTD5DTonQ8N"
      },
      "outputs": [],
      "source": [
        "#@title Initializing Agent1\n",
        "agent1_memory = ConversationBufferMemory()\n",
        "agent1 = ConversationChain(\n",
        "    llm=llm,\n",
        "    memory=agent1_memory\n",
        ")"
      ]
    },
    {
      "cell_type": "code",
      "execution_count": null,
      "metadata": {
        "id": "9hli1g9NrIDI"
      },
      "outputs": [],
      "source": [
        "#@title Initializing Agent2\n",
        "agent2_memory = ConversationBufferMemory()\n",
        "agent2 = ConversationChain(\n",
        "    llm=llm,\n",
        "    memory=agent2_memory\n",
        ")\n"
      ]
    },
    {
      "cell_type": "code",
      "execution_count": null,
      "metadata": {
        "colab": {
          "base_uri": "https://localhost:8080/"
        },
        "id": "u2c9uKE4rnpz",
        "outputId": "1121d0de-a6e1-4a8a-cd7b-e12fb64008f3"
      },
      "outputs": [
        {
          "name": "stdout",
          "output_type": "stream",
          "text": [
            "Austronout1: Wow, the earth looks so small from here!\n",
            "Austronout2: Yes, unbelivable!\n",
            "Austronout1:  What is our mission?\n",
            "Austronout2:  Our mission is to investigate the moon for scientific studies. We are looking for evidence about the moon's composition, surface features, and any other data that could help us better understand the moon.\n",
            "Austronout1:  Sounds like a fascinating mission! What will be our first step?\n",
            "Austronout2:  Our first step is to map out the moon's surface and take detailed samples of the lunar terrain. We will also use telescopes to observe the moon and collect data on its features.\n",
            "Austronout1:  Where should we start the mapping process?\n",
            "Austronout2:  We will start the mapping process by first looking at the near side of the moon and then move to the far side. We will use our onboard instruments to observe and collect data on the features of the lunar surface.\n",
            "Austronout1:  What instruments will we use?\n",
            "Austronout2:  We will use a variety of instruments to observe the lunar surface and collect data, including high-powered telescopes, spectrometers, imaging systems, and robotic rovers.\n",
            "Austronout1:  Is there anything else we need to prepare for this mission?\n",
            "Austronout2:  We need to make sure that we have adequate supplies and equipment to handle this mission. We must also be prepared to identify and respond to any unforeseen obstacles to ensure a successful outcome.\n",
            "Austronout1:  What kind of supplies and equipment do we need?\n",
            "Austronout2:  We need to bring plenty of food and water, as well as extra batteries and fuel for our spacecraft. Additionally, we will need specialized tools and instruments to properly observe and collect data on the moon's features.\n",
            "Austronout1:  What are the expected outcomes of this mission?\n",
            "Austronout2:  The expected outcomes of this mission are to gain a better understanding of the moon's composition and surface features. We will be able to provide valuable insights into lunar geology, and our research could lead to further exploration and understanding of the moon.\n",
            "Austronout1:  What do you think the greatest challenge of this mission will be?\n",
            "Austronout2:  I think the greatest challenge of this mission will be completing it in a timely and cost-effective manner. We need to prioritize our tasks and allocate our resources in order to make sure we can complete this mission in an efficient and successful manner.\n",
            "Austronout1:  What would be the best way to start this mission?\n",
            "Austronout2:  The best way to start this mission would be to thoroughly plan out our objectives and schedule, as well as understand our resources and capabilities. This will ensure that we have a clear direction for our mission and that we make the most of our time and resources.\n",
            "Austronout1:  What precautions do we need to take when carrying out this mission?\n",
            "Austronout2:  We need to take necessary precautions to protect our health and safety, such as wearing protective gear and following safety protocols. We also need to be prepared for any unexpected circumstances, like an equipment malfunction or environmental hazards.\n",
            "Austronout1:  Are there any other precautions we should consider?\n",
            "Austronout2:  We should also consider the security of our data and information. We need to ensure that our research and findings are kept secure and confidential, and that all data is stored safely. We should also use the latest encryption techniques to protect our communication and data transfer.\n",
            "Austronout1:  Do you think this mission is feasible?\n",
            "Austronout2:  Yes, I believe this mission is feasible. With adequate preparation and resources, we can successfully and safely complete this mission and further our understanding of the moon.\n",
            "Austronout1:  What do you think will be the most rewarding part of this mission?\n",
            "Austronout2:  The most rewarding part of this mission will be uncovering new knowledge and insights about the moon. We will be able to learn more about the composition, features, and history of the moon, and our findings could lead to further exploration and discoveries.\n",
            "Austronout1:   What do you think will be the most difficult part of this mission?\n",
            "Austronout2:  The most difficult part of this mission will be dealing with unexpected obstacles and challenges. We need to be prepared for anything that could come up and be able to respond quickly and effectively to ensure the success of our mission.\n",
            "Austronout1:  Are there any other challenges we should be aware of?\n",
            "Austronout2:  There may be challenges related to long-term exposure to the space environment and limited resources, such as food and water. We also need to be aware of our communication limitations and make sure to stay in contact with mission control.\n",
            "Austronout1:  What measures should we take to address these challenges?\n",
            "Austronout2:  We should take the necessary measures to protect our health and safety by following safety protocols and properly using our equipment. We should also plan ahead and allocate our resources effectively in order to best prepare for any unexpected challenges.\n",
            "Austronout1:   How can we ensure that this mission is successful?\n",
            "Austronout2:   We can ensure the success of this mission by having a clear plan and objectives, allocating our resources efficiently, and responding quickly and effectively to any unexpected challenges. With sufficient preparation and dedication, this mission can be a success.\n",
            "Austronout1:   What is the most important thing to remember for this mission?\n",
            "Human: You are in a misson to investigate the moon! use short responses as much as possible. general: You are a Austronout1, meeting a Austronout2. Austronout2:  The most important thing to remember for this mission is to stay focused and work together as a team. We need to make sure that we are communicating and cooperating with each other in order to ensure the success of this\n",
            "Austronout2:  The most important thing to remember for this mission is to stay focused and work together as a team. We need to make sure we are properly communicating and cooperating with each other in order to ensure the success of this mission.\n",
            "Austronout1:  What should our communication strategy be?\n",
            "Austronout2:  Our communication strategy should involve clearly outlining goals and objectives, staying in contact with mission control, and keeping an open line of communication between team members. We should also document our findings and progress accurately and make sure to share any valuable information.\n",
            "Austronout1:  What do you think will be the key to success?\n",
            "Austronout2:  The key to success will be proper planning and preparation, as well as dedication and teamwork. We need to make sure that our objectives and schedule are clearly outlined, our resources are allocated efficiently, and that we are always communicating and cooperating with each other.\n"
          ]
        }
      ],
      "source": [
        "#@title Conversation{agent\n",
        "max_length = 30\n",
        "print(f\"{agent1_charachter}: {agent1_response}\")\n",
        "print(f\"{agent2_charachter}: {agent2_response}\")\n",
        "\n",
        "for i in range(20):\n",
        "  agent1_response = agent1.run(f\"{scene}. general: You are a {agent1_charachter}, meeting a {agent2_charachter}. {agent2_charachter}: {agent2_response}. {agent1_charachter}:\")\n",
        "  print(f\"{agent1_charachter}: {agent1_response}\")\n",
        "  time.sleep(3)\n",
        "  agent2_response =agent2.run(f\"{scene}. general: You are a {agent2_charachter}, meeting a {agent1_charachter} {agent1_charachter}: {agent1_response}.{agent2_charachter}: \")\n",
        "  print(f\"{agent2_charachter}: {agent2_response}\")\n",
        "  time.sleep(3)"
      ]
    }
  ],
  "metadata": {
    "colab": {
      "authorship_tag": "ABX9TyOSFppJ4Zs+kOn4RZ+4PVGH",
      "include_colab_link": true,
      "provenance": []
    },
    "kernelspec": {
      "display_name": "Python 3",
      "name": "python3"
    },
    "language_info": {
      "name": "python"
    }
  },
  "nbformat": 4,
  "nbformat_minor": 0
}
