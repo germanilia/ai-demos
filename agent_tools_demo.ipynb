{
  "cells": [
    {
      "cell_type": "markdown",
      "metadata": {
        "colab_type": "text",
        "id": "view-in-github"
      },
      "source": [
        "<a href=\"https://colab.research.google.com/github/germanilia/ai_and_stuff/blob/main/webinar_open_ai/demo/agent_tools_demo.ipynb\" target=\"_parent\"><img src=\"https://colab.research.google.com/assets/colab-badge.svg\" alt=\"Open In Colab\"/></a>"
      ]
    },
    {
      "cell_type": "code",
      "execution_count": 7,
      "metadata": {
        "id": "1inyRUyBk_QA"
      },
      "outputs": [],
      "source": [
        "#@title Set API Keys\n",
        "import os\n",
        "os.environ[\"AZURE_OPENAI_API_KEY\"] = \"\"\n",
        "os.environ[\"SERPAPI_API_KEY\"] = \"\""
      ]
    },
    {
      "cell_type": "code",
      "execution_count": 8,
      "metadata": {
        "id": "yx5C_x39ki-U"
      },
      "outputs": [],
      "source": [
        "#@title Install dependencies\n",
        "!pip -q install langchain huggingface_hub openai google-search-results tiktoken wikipedia"
      ]
    },
    {
      "cell_type": "code",
      "execution_count": 9,
      "metadata": {
        "id": "6cLJYlhrlUMl"
      },
      "outputs": [],
      "source": [
        "#@title Set env variables\n",
        "os.environ[\"OPENAI_API_TYPE\"] = \"azure\"\n",
        "os.environ[\"AZURE_MODEL_NAME\"] = \"text-davinci-003\"\n",
        "os.environ[\"AZURE_DEPLOYMENT_NAME\"] = \"text-davinci-003\"\n",
        "os.environ[\"OPENAI_API_VERSION\"] = \"2022-12-01\"\n",
        "os.environ[\"OPENAI_API_BASE\"] = \"https://ilia.openai.azure.com\"\n",
        "os.environ[\"OPENAI_API_KEY\"] = os.environ.get(\"AZURE_OPENAI_API_KEY\")"
      ]
    },
    {
      "cell_type": "code",
      "execution_count": 10,
      "metadata": {
        "id": "C_Leij2Dkztw"
      },
      "outputs": [],
      "source": [
        "#@title Initilize LLM\n",
        "import os\n",
        "from langchain.agents import load_tools\n",
        "from langchain.agents import initialize_agent\n",
        "from langchain.llms import AzureOpenAI\n",
        "\n",
        "llm = AzureOpenAI(\n",
        "    deployment_name=os.environ.get(\"AZURE_DEPLOYMENT_NAME\"),\n",
        "    model_name=os.environ.get(\"AZURE_MODEL_NAME\"),\n",
        "    temperature=0,\n",
        "    streaming=False,\n",
        ")\n"
      ]
    },
    {
      "cell_type": "code",
      "execution_count": 11,
      "metadata": {
        "colab": {
          "base_uri": "https://localhost:8080/"
        },
        "id": "VyqWtVy7l3Q3",
        "outputId": "98744e03-150c-4ef0-a0fc-3d06e6ae889e"
      },
      "outputs": [
        {
          "name": "stdout",
          "output_type": "stream",
          "text": [
            "\n",
            "\n",
            "I'm a recent college graduate with a degree in Business Administration. I'm passionate about learning new things and exploring new opportunities. I'm an organized and detail-oriented person who loves to take on challenges and solve problems. I'm also a creative thinker who enjoys coming up with innovative solutions. In my free time, I enjoy reading, playing sports, and spending time with friends and family.\n"
          ]
        }
      ],
      "source": [
        "res = llm(\"tell me about yourself\")\n",
        "print(res)"
      ]
    },
    {
      "cell_type": "code",
      "execution_count": 27,
      "metadata": {
        "id": "iCffPIILl-bO"
      },
      "outputs": [],
      "source": [
        "#@title Load Tools\n",
        "tools = load_tools([\"serpapi\", \"llm-math\"], llm=llm)"
      ]
    },
    {
      "cell_type": "code",
      "execution_count": 28,
      "metadata": {
        "colab": {
          "base_uri": "https://localhost:8080/"
        },
        "id": "cSHh4g8aofs0",
        "outputId": "345ec0d8-2af6-437f-c19c-bd1a611838a8"
      },
      "outputs": [
        {
          "data": {
            "text/plain": [
              "('Calculator', 'Useful for when you need to answer questions about math.')"
            ]
          },
          "execution_count": 28,
          "metadata": {},
          "output_type": "execute_result"
        }
      ],
      "source": [
        "# What is a tool like this\n",
        "tools[1].name, tools[1].description"
      ]
    },
    {
      "cell_type": "markdown",
      "metadata": {
        "id": "gIpl4x6JpQUK"
      },
      "source": []
    },
    {
      "cell_type": "code",
      "execution_count": 29,
      "metadata": {
        "id": "WEWPwjhlmFTQ"
      },
      "outputs": [],
      "source": [
        "#@title Initializing agent\n",
        "agent = initialize_agent(tools, \n",
        "                         llm, \n",
        "                         agent=\"zero-shot-react-description\", \n",
        "                         verbose=True)"
      ]
    },
    {
      "cell_type": "code",
      "execution_count": null,
      "metadata": {
        "colab": {
          "base_uri": "https://localhost:8080/",
          "height": 125
        },
        "id": "8doBhZ5mmPB_",
        "outputId": "9af024b5-024f-4972-d492-31f60f9ec456"
      },
      "outputs": [
        {
          "data": {
            "application/vnd.google.colaboratory.intrinsic+json": {
              "type": "string"
            },
            "text/plain": [
              "'Answer the following questions as best you can. You have access to the following tools:\\n\\nSearch: A search engine. Useful for when you need to answer questions about current events. Input should be a search query.\\nCalculator: Useful for when you need to answer questions about math.\\n\\nUse the following format:\\n\\nQuestion: the input question you must answer\\nThought: you should always think about what to do\\nAction: the action to take, should be one of [Search, Calculator]\\nAction Input: the input to the action\\nObservation: the result of the action\\n... (this Thought/Action/Action Input/Observation can repeat N times)\\nThought: I now know the final answer\\nFinal Answer: the final answer to the original input question\\n\\nBegin!\\n\\nQuestion: {input}\\nThought:{agent_scratchpad}'"
            ]
          },
          "execution_count": 14,
          "metadata": {},
          "output_type": "execute_result"
        }
      ],
      "source": [
        "agent.agent.llm_chain.prompt.template"
      ]
    },
    {
      "cell_type": "markdown",
      "metadata": {
        "id": "U_XBlsHhpcBw"
      },
      "source": [
        "Answer the following questions as best you can. You have access to the following tools:\n",
        "\n",
        "Search: A search engine. Useful for when you need to answer questions about current events. Input should be a search query.\n",
        "Calculator: Useful for when you need to answer questions about math.\n",
        "\n",
        "Use the following format:\n",
        "\n",
        "Question: the input question you must answer\n",
        "Thought: you should always think about what to do\n",
        "Action: the action to take, should be one of [Search, Calculator]\n",
        "Action Input: the input to the action\n",
        "Observation: the result of the action\n",
        "... (this Thought/Action/Action Input/Observation can repeat N times)\n",
        "Thought: I now know the final answer\n",
        "Final Answer: the final answer to the original input question\n",
        "\n",
        "Begin!\n",
        "\n",
        "Question: {input}\n",
        "Thought:{agent_scratchpad}"
      ]
    },
    {
      "cell_type": "code",
      "execution_count": null,
      "metadata": {
        "colab": {
          "base_uri": "https://localhost:8080/",
          "height": 232
        },
        "id": "nNIpG1VumVDu",
        "outputId": "ff9eea92-3f65-4b2a-c87e-123a8bd7f192"
      },
      "outputs": [
        {
          "name": "stdout",
          "output_type": "stream",
          "text": [
            "\n",
            "\n",
            "\u001b[1m> Entering new AgentExecutor chain...\u001b[0m\n",
            "\u001b[32;1m\u001b[1;3m This is not a question that can be answered with a search or a calculator.\n",
            "Action: None\n",
            "Action Input: None\u001b[0m\n",
            "Observation: None is not a valid tool, try another one.\n",
            "Thought:\u001b[32;1m\u001b[1;3m This is a question that requires a personal response.\n",
            "Final Answer: I'm doing well, thank you for asking!\u001b[0m\n",
            "\n",
            "\u001b[1m> Finished chain.\u001b[0m\n"
          ]
        },
        {
          "data": {
            "application/vnd.google.colaboratory.intrinsic+json": {
              "type": "string"
            },
            "text/plain": [
              "\"I'm doing well, thank you for asking!\""
            ]
          },
          "execution_count": 15,
          "metadata": {},
          "output_type": "execute_result"
        }
      ],
      "source": [
        "agent.run(\"Hi How are you today?\")"
      ]
    },
    {
      "cell_type": "code",
      "execution_count": null,
      "metadata": {
        "colab": {
          "base_uri": "https://localhost:8080/",
          "height": 375
        },
        "id": "2Lf8GlCOmVE6",
        "outputId": "59de32f3-a263-48ff-b744-881ac31d86ff"
      },
      "outputs": [
        {
          "name": "stdout",
          "output_type": "stream",
          "text": [
            "\n",
            "\n",
            "\u001b[1m> Entering new AgentExecutor chain...\u001b[0m\n",
            "\u001b[32;1m\u001b[1;3m I need to find out who the President is and then do some math.\n",
            "Action: Search\n",
            "Action Input: \"United States President\"\u001b[0m\n",
            "Observation: \u001b[36;1m\u001b[1;3mJoe Biden\u001b[0m\n",
            "Thought:\u001b[32;1m\u001b[1;3m I now need to find out Joe Biden's age.\n",
            "Action: Search\n",
            "Action Input: \"Joe Biden age\"\u001b[0m\n",
            "Observation: \u001b[36;1m\u001b[1;3m80 years\u001b[0m\n",
            "Thought:\u001b[32;1m\u001b[1;3m I now need to divide Joe Biden's age by 2.\n",
            "Action: Calculator\n",
            "Action Input: 80/2\u001b[0m\n",
            "Observation: \u001b[33;1m\u001b[1;3mAnswer: 40.0\u001b[0m\n",
            "Thought:\u001b[32;1m\u001b[1;3m I now know the final answer.\n",
            "Final Answer: Joe Biden is the United States President and his current age raised divided by 2 is 40.0.\u001b[0m\n",
            "\n",
            "\u001b[1m> Finished chain.\u001b[0m\n"
          ]
        },
        {
          "data": {
            "application/vnd.google.colaboratory.intrinsic+json": {
              "type": "string"
            },
            "text/plain": [
              "'Joe Biden is the United States President and his current age raised divided by 2 is 40.0.'"
            ]
          },
          "execution_count": 16,
          "metadata": {},
          "output_type": "execute_result"
        }
      ],
      "source": [
        "agent.run(\"Who is the United States President? What is his current age raised divided by 2?\")\n"
      ]
    },
    {
      "cell_type": "code",
      "execution_count": 1,
      "metadata": {
        "colab": {
          "base_uri": "https://localhost:8080/",
          "height": 169
        },
        "id": "UI8YrzWxsCWJ",
        "outputId": "30bac8e3-0422-4ae6-a179-6f4243a32bf5"
      },
      "outputs": [
        {
          "ename": "NameError",
          "evalue": "ignored",
          "output_type": "error",
          "traceback": [
            "\u001b[0;31m---------------------------------------------------------------------------\u001b[0m",
            "\u001b[0;31mNameError\u001b[0m                                 Traceback (most recent call last)",
            "\u001b[0;32m<ipython-input-1-51fdfb076a2f>\u001b[0m in \u001b[0;36m<cell line: 1>\u001b[0;34m()\u001b[0m\n\u001b[0;32m----> 1\u001b[0;31m \u001b[0magent\u001b[0m\u001b[0;34m.\u001b[0m\u001b[0mrun\u001b[0m\u001b[0;34m(\u001b[0m\u001b[0;34m\"Who is the current CEO of sela cloud from israel?\"\u001b[0m\u001b[0;34m)\u001b[0m\u001b[0;34m\u001b[0m\u001b[0;34m\u001b[0m\u001b[0m\n\u001b[0m",
            "\u001b[0;31mNameError\u001b[0m: name 'agent' is not defined"
          ]
        }
      ],
      "source": [
        "agent.run(\"Who is the current CEO of sela cloud from israel?\")"
      ]
    },
    {
      "cell_type": "code",
      "execution_count": 18,
      "metadata": {
        "id": "cKQqOXLjm95r"
      },
      "outputs": [],
      "source": [
        "#@title New Agent\n",
        "tools = load_tools([\"serpapi\", \"llm-math\",\"wikipedia\",\"terminal\"], llm=llm)\n",
        "agent = initialize_agent(tools, \n",
        "                         llm, \n",
        "                         agent=\"zero-shot-react-description\", \n",
        "                         verbose=True)\n"
      ]
    },
    {
      "cell_type": "code",
      "execution_count": null,
      "metadata": {
        "colab": {
          "base_uri": "https://localhost:8080/",
          "height": 232
        },
        "id": "LPhtW-OOnGKI",
        "outputId": "b99a0f34-e7db-4eea-eaac-0538ead1f6b0"
      },
      "outputs": [
        {
          "name": "stdout",
          "output_type": "stream",
          "text": [
            "\n",
            "\n",
            "\u001b[1m> Entering new AgentExecutor chain...\u001b[0m\n",
            "\u001b[32;1m\u001b[1;3m I need to find out who is the head of DeepMind\n",
            "Action: Search\n",
            "Action Input: \"head of DeepMind\"\u001b[0m\n",
            "Observation: \u001b[36;1m\u001b[1;3mCEO Demis Hassabis\u001b[0m\n",
            "Thought:\u001b[32;1m\u001b[1;3m I now know the final answer\n",
            "Final Answer: Demis Hassabis is the head of DeepMind.\u001b[0m\n",
            "\n",
            "\u001b[1m> Finished chain.\u001b[0m\n"
          ]
        },
        {
          "data": {
            "application/vnd.google.colaboratory.intrinsic+json": {
              "type": "string"
            },
            "text/plain": [
              "'Demis Hassabis is the head of DeepMind.'"
            ]
          },
          "execution_count": 18,
          "metadata": {},
          "output_type": "execute_result"
        }
      ],
      "source": [
        "agent.run(\"Who is the head of DeepMind\")"
      ]
    },
    {
      "cell_type": "code",
      "execution_count": 23,
      "metadata": {
        "colab": {
          "base_uri": "https://localhost:8080/",
          "height": 555
        },
        "id": "fHrPHpy7nNng",
        "outputId": "cb663aee-925f-4d56-fd90-0d88d7e50651"
      },
      "outputs": [
        {
          "name": "stdout",
          "output_type": "stream",
          "text": [
            "\n",
            "\n",
            "\u001b[1m> Entering new AgentExecutor chain...\u001b[0m\n",
            "\u001b[32;1m\u001b[1;3m DeepMind is a company, so I should look it up on Wikipedia.\n",
            "Action: Wikipedia\n",
            "Action Input: DeepMind\u001b[0m"
          ]
        },
        {
          "name": "stderr",
          "output_type": "stream",
          "text": [
            "/usr/local/lib/python3.10/dist-packages/wikipedia/wikipedia.py:389: GuessedAtParserWarning: No parser was explicitly specified, so I'm using the best available HTML parser for this system (\"lxml\"). This usually isn't a problem, but if you run this code on another system, or in a different virtual environment, it may use a different parser and behave differently.\n",
            "\n",
            "The code that caused this warning is on line 389 of the file /usr/local/lib/python3.10/dist-packages/wikipedia/wikipedia.py. To get rid of this warning, pass the additional argument 'features=\"lxml\"' to the BeautifulSoup constructor.\n",
            "\n",
            "  lis = BeautifulSoup(html).find_all('li')\n"
          ]
        },
        {
          "name": "stdout",
          "output_type": "stream",
          "text": [
            "\n",
            "Observation: \u001b[38;5;200m\u001b[1;3mPage: Google DeepMind\n",
            "Summary: Google DeepMind, formerly DeepMind Technologies, is an artificial intelligence research laboratory which serves as a subsidiary of Google. It was originally founded in 2010 in the United Kingdom before being acquired by Google in 2014, becoming a wholly owned subsidiary of Google parent company Alphabet Inc. after Google's corporate restructuring in 2015. The company is based in London, with research centres in Canada, France, and the United States.\n",
            "Google DeepMind has created a neural network that learns how to play video games in a fashion similar to that of humans, as well as a Neural Turing machine, or a neural network that may be able to access an external memory like a conventional Turing machine, resulting in a computer that mimics the short-term memory of the human brain.DeepMind made headlines in 2016 after its AlphaGo program beat a human professional Go player Lee Sedol, a world champion, in a five-game match, which was the subject of a documentary film. A more general program, AlphaZero, beat the most powerful programs playing go, chess and shogi (Japanese chess) after a few days of play against itself using reinforcement learning. In 2020, DeepMind made significant advances in the problem of protein folding with AlphaFold. In July 2022, it was announced that over 200 million predicted protein structures, representing virtually all known proteins, would be released on the AlphaFold database.DeepMind posted a blog post on 28 April 2022 on a single visual language model (VLM) named Flamingo that can accurately describe a picture of something with just a few training images. In July 2022, DeepMind announced the development of DeepNash, a model-free multi-agent reinforcement learning system capable of playing the board game Stratego at the level of a human expert. The company merged with Google AI's Google Brain division to become Google DeepMind in April 2023.\n",
            "\n",
            "\n",
            "\n",
            "Page: AlphaGo\n",
            "Summary: AlphaGo is a computer program that plays the board game Go. It was developed by the London-based DeepMind Technologies, an acquired subsidiary of Google (now Alphabet Inc.). Subsequent versions of AlphaGo became increasingly powerful, including a version that competed under the name Master. After retiring from competitive play, AlphaGo Master was succeeded by an even more powerful version known as AlphaGo Zero, which was completely self-taught without learning from human games. AlphaGo Zero was then generalized into a program known as AlphaZero, which played additional games, including chess and shogi.  AlphaZero has in turn been succeeded by a program known as MuZero which learns without being taught the rules.\n",
            "AlphaGo and its successors use a Monte Carlo tree search algorithm to find its moves based on knowledge previously acquired by machine learning, specifically by an artificial neural network (a deep learning method) by extensive training, both from human and computer play. A neural network is trained to identify the best moves and the winning percentages of these moves. This neural network improves the strength of the tree search, resulting in stronger move selection in the next iteration.\n",
            "In October 2015, in a match against Fan Hui, the original AlphaGo became the first computer Go program to beat a human professional Go player without handicap on a full-sized 19×19 board. In March 2016, it beat Lee Sedol in a five-game match, the first time a computer Go program has beaten a 9-dan professional without handicap. Although it lost to Lee Sedol in the fourth game, Lee resigned in the final game, giving a final score of 4 games to 1 in favour of AlphaGo. In recognition of the victory, AlphaGo was awarded an honorary 9-dan by the Korea Baduk Association. The lead up and the challenge match with Lee Sedol were documented in a documentary film also titled AlphaGo, directed by Greg Kohs. The win by AlphaGo was chosen by Science as one of the Breakthrough of the Year runners-up on 22 December 2016.At the 20\u001b[0m\n",
            "Thought:\u001b[32;1m\u001b[1;3m I now know the final answer\n",
            "Final Answer: AlphaGo is a computer program developed by the London-based DeepMind Technologies, an acquired subsidiary of Google (now Alphabet Inc.). It uses a Monte Carlo tree search algorithm to find its moves based on knowledge previously acquired by machine learning, specifically by an artificial neural network (a deep learning method) by extensive training, both from human and computer play. In October 2015, it became the first computer Go program to beat a human professional Go player without handicap on a full-sized 19×19 board. In March 2016, it beat Lee Sedol in a five-game match, the first time a computer Go program has beaten a 9-dan professional without handicap.\u001b[0m\n",
            "\n",
            "\u001b[1m> Finished chain.\u001b[0m\n"
          ]
        },
        {
          "data": {
            "application/vnd.google.colaboratory.intrinsic+json": {
              "type": "string"
            },
            "text/plain": [
              "'AlphaGo is a computer program developed by the London-based DeepMind Technologies, an acquired subsidiary of Google (now Alphabet Inc.). It uses a Monte Carlo tree search algorithm to find its moves based on knowledge previously acquired by machine learning, specifically by an artificial neural network (a deep learning method) by extensive training, both from human and computer play. In October 2015, it became the first computer Go program to beat a human professional Go player without handicap on a full-sized 19×19 board. In March 2016, it beat Lee Sedol in a five-game match, the first time a computer Go program has beaten a 9-dan professional without handicap.'"
            ]
          },
          "execution_count": 23,
          "metadata": {},
          "output_type": "execute_result"
        }
      ],
      "source": [
        "agent.run(\"What is DeepMind\")"
      ]
    },
    {
      "cell_type": "code",
      "execution_count": null,
      "metadata": {
        "colab": {
          "base_uri": "https://localhost:8080/",
          "height": 573
        },
        "id": "BLxv7KKanl1j",
        "outputId": "83b6342f-d49e-4186-e036-51fcc62405cb"
      },
      "outputs": [
        {
          "name": "stdout",
          "output_type": "stream",
          "text": [
            "\n",
            "\n",
            "\u001b[1m> Entering new AgentExecutor chain...\u001b[0m\n",
            "\u001b[32;1m\u001b[1;3m I need to find out what files are in my current directory.\n",
            "Action: terminal\n",
            "Action Input: ls\u001b[0m\n",
            "Observation: \u001b[31;1m\u001b[1;3msample_data\n",
            "\u001b[0m\n",
            "Thought:"
          ]
        },
        {
          "name": "stderr",
          "output_type": "stream",
          "text": [
            "/usr/local/lib/python3.10/dist-packages/langchain/tools/shell/tool.py:33: UserWarning: The shell tool has no safeguards by default. Use at your own risk.\n",
            "  warnings.warn(\n"
          ]
        },
        {
          "name": "stdout",
          "output_type": "stream",
          "text": [
            "\u001b[32;1m\u001b[1;3m I need to find out if there is a file about California in this directory.\n",
            "Action: terminal\n",
            "Action Input: grep California sample_data\u001b[0m\n",
            "Observation: \u001b[31;1m\u001b[1;3mgrep: sample_data: Is a directory\n",
            "\u001b[0m\n",
            "Thought:\u001b[32;1m\u001b[1;3m I need to look inside the sample_data directory to see if there is a file about California.\n",
            "Action: terminal\n",
            "Action Input: ls sample_data\u001b[0m\n",
            "Observation: \u001b[31;1m\u001b[1;3manscombe.json\n",
            "california_housing_test.csv\n",
            "california_housing_train.csv\n",
            "mnist_test.csv\n",
            "mnist_train_small.csv\n",
            "README.md\n",
            "\u001b[0m\n",
            "Thought:\u001b[32;1m\u001b[1;3m I now know the final answer.\n",
            "Final Answer: Yes, there is a file about California in my current directory.\u001b[0m\n",
            "\n",
            "\u001b[1m> Finished chain.\u001b[0m\n"
          ]
        },
        {
          "data": {
            "application/vnd.google.colaboratory.intrinsic+json": {
              "type": "string"
            },
            "text/plain": [
              "'Yes, there is a file about California in my current directory.'"
            ]
          },
          "execution_count": 20,
          "metadata": {},
          "output_type": "execute_result"
        }
      ],
      "source": [
        "agent.run(\"Does my current directory have a file about California?\")"
      ]
    }
  ],
  "metadata": {
    "colab": {
      "authorship_tag": "ABX9TyP7IMb613sW6P+oMNAlSMKV",
      "include_colab_link": true,
      "provenance": []
    },
    "kernelspec": {
      "display_name": "Python 3",
      "name": "python3"
    },
    "language_info": {
      "name": "python"
    }
  },
  "nbformat": 4,
  "nbformat_minor": 0
}
